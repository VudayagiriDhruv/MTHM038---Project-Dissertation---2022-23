{
 "cells": [
  {
   "cell_type": "markdown",
   "id": "9890d9d5",
   "metadata": {},
   "source": [
    "# Parameter estimation on GW170817 temp"
   ]
  },
  {
   "cell_type": "markdown",
   "id": "059b7581",
   "metadata": {},
   "source": [
    "### Instalization"
   ]
  },
  {
   "cell_type": "code",
   "execution_count": 6,
   "id": "8288cff4",
   "metadata": {},
   "outputs": [],
   "source": [
    "import bilby # Importing the bilby module for gravitational wave analysis\n",
    "from gwpy.timeseries import TimeSeries # Importing the TimeSeries class from gwpy.timeseries module\n",
    "\n",
    "logger = bilby.core.utils.logger # Initializing the logger for logging purposes\n",
    "outdir = 'outdir'  # Setting the output directory path to 'outdir'\n",
    "label = 'GW170817' # Setting the label for the analysis as 'GW150914'\n",
    "time_of_event = bilby.gw.utils.get_event_time(label)"
   ]
  },
  {
   "cell_type": "markdown",
   "id": "49aa24eb",
   "metadata": {},
   "source": [
    "### Data Setup"
   ]
  },
  {
   "cell_type": "code",
   "execution_count": 7,
   "id": "711d2c0f",
   "metadata": {},
   "outputs": [],
   "source": [
    "trigger_time = 1187008882 # The trigger time for the analysis\n",
    "\n",
    "roll_off = 0.2  # Roll off duration of tukey window in seconds, default is 0.4s\n",
    "duration = 32  # Analysis segment duration (Duration of the analysis segment in seconds)\n",
    "post_trigger_duration = 2  # Time between trigger time and end of segment\n",
    "end_time = trigger_time + post_trigger_duration # Calculating the end time of the segment\n",
    "start_time = end_time - duration # Calculating the start time of the segment\n",
    "\n",
    "psd_duration = 1024   # Duration of the power spectral density estimation\n",
    "psd_start_time = start_time - psd_duration  # Calculating the start time of the PSD estimation\n",
    "psd_end_time = start_time # The end time of the PSD estimation is the same as the start time of the segment"
   ]
  },
  {
   "cell_type": "markdown",
   "id": "be32293d",
   "metadata": {},
   "source": [
    "### Download the data"
   ]
  },
  {
   "cell_type": "code",
   "execution_count": 8,
   "id": "1bb245dc",
   "metadata": {},
   "outputs": [
    {
     "name": "stderr",
     "output_type": "stream",
     "text": [
      "13:03 bilby INFO    : Downloading analysis data for ifo H1\n",
      "13:06 bilby INFO    : Downloading psd data for ifo H1\n",
      "13:10 bilby INFO    : Downloading analysis data for ifo L1\n",
      "13:13 bilby INFO    : Downloading psd data for ifo L1\n",
      "13:18 bilby INFO    : Downloading analysis data for ifo V1\n",
      "13:21 bilby INFO    : Downloading psd data for ifo V1\n",
      "13:24 bilby INFO    : Saving data plots to outdir\n",
      "13:24 bilby INFO    : Generating frequency domain strain from given time domain strain.\n",
      "13:24 bilby INFO    : Applying a tukey window with alpha=0.0125, roll off=0.2\n",
      "13:24 bilby INFO    : Generating frequency domain strain from given time domain strain.\n",
      "13:24 bilby INFO    : Applying a tukey window with alpha=0.0125, roll off=0.2\n",
      "13:24 bilby INFO    : Generating frequency domain strain from given time domain strain.\n",
      "13:24 bilby INFO    : Applying a tukey window with alpha=0.0125, roll off=0.2\n"
     ]
    }
   ],
   "source": [
    "# We now use gwpy to obtain analysis and psd data and create the ifo_list\n",
    "ifo_list = bilby.gw.detector.InterferometerList([])\n",
    "\n",
    "# Loop over each detector (H1 and L1)\n",
    "for det in [\"H1\", \"L1\", \"V1\"]:\n",
    "    logger.info(\"Downloading analysis data for ifo {}\".format(det))\n",
    "\n",
    "    # Create an empty interferometer object for the detector\n",
    "    ifo = bilby.gw.detector.get_empty_interferometer(det)\n",
    "\n",
    "    # Fetch the strain data from gwpy for the specified time interval\n",
    "    data = TimeSeries.fetch_open_data(det, start_time, end_time)\n",
    "\n",
    "    # Set the strain data of the interferometer from the gwpy TimeSeries object\n",
    "    ifo.strain_data.set_from_gwpy_timeseries(data)\n",
    "\n",
    "    logger.info(\"Downloading psd data for ifo {}\".format(det))\n",
    "\n",
    "    # Fetch the PSD data from gwpy for the specified time interval\n",
    "    psd_data = TimeSeries.fetch_open_data(det, psd_start_time, psd_end_time)\n",
    "\n",
    "    # Calculate the alpha parameter for the Tukey window\n",
    "    psd_alpha = 2 * roll_off / duration\n",
    "\n",
    "    # Calculate the PSD using gwpy's psd() method\n",
    "    psd = psd_data.psd(\n",
    "        fftlength=duration,\n",
    "        overlap=0,\n",
    "        window=(\"tukey\", psd_alpha),\n",
    "        method=\"median\"\n",
    "    )\n",
    "\n",
    "    # Create a PowerSpectralDensity object using the frequency and PSD arrays\n",
    "    ifo.power_spectral_density = bilby.gw.detector.PowerSpectralDensity(\n",
    "        frequency_array=psd.frequencies.value, psd_array=psd.value)\n",
    "\n",
    "    # Append the interferometer object to the ifo_list\n",
    "    ifo_list.append(ifo)\n",
    "\n",
    "logger.info(\"Saving data plots to {}\".format(outdir))\n",
    "\n",
    "# Check if the output directory exists, if not, create it\n",
    "bilby.core.utils.check_directory_exists_and_if_not_mkdir(outdir)\n",
    "\n",
    "# Plot the data using the interferometer list and save the plots to the output directory\n",
    "ifo_list.plot_data(outdir=outdir, label=label)\n"
   ]
  },
  {
   "cell_type": "markdown",
   "id": "5870f144",
   "metadata": {},
   "source": [
    "### Create a prior"
   ]
  },
  {
   "cell_type": "code",
   "execution_count": 15,
   "id": "af3fd84f",
   "metadata": {},
   "outputs": [],
   "source": [
    "# CHOOSE PRIOR FILE\n",
    "prior = bilby.gw.prior.BNSPriorDict(filename='GW170817.prior')\n",
    "deltaT = 0.1\n",
    "prior['geocent_time'] = bilby.core.prior.Uniform(\n",
    "    minimum=time_of_event - deltaT / 2,\n",
    "    maximum=time_of_event + deltaT / 2,\n",
    "    name='geocent_time',\n",
    "    latex_label='$t_c$',\n",
    "    unit='$s$')"
   ]
  },
  {
   "cell_type": "markdown",
   "id": "6ebdb5a2",
   "metadata": {},
   "source": [
    "### Create a waveform generator"
   ]
  },
  {
   "cell_type": "code",
   "execution_count": 16,
   "id": "5fdb4d25",
   "metadata": {},
   "outputs": [
    {
     "name": "stderr",
     "output_type": "stream",
     "text": [
      "13:32 bilby INFO    : Waveform generator initiated with\n",
      "  frequency_domain_source_model: bilby.gw.source.lal_binary_neutron_star\n",
      "  time_domain_source_model: None\n",
      "  parameter_conversion: bilby.gw.conversion.convert_to_lal_binary_neutron_star_parameters\n"
     ]
    }
   ],
   "source": [
    "# GENERATE WAVEFORM\n",
    "# OVERVIEW OF APPROXIMANTS:\n",
    "# https://www.lsc-group.phys.uwm.edu/ligovirgo/cbcnote/Waveforms/Overview\n",
    "duration = None  # duration and sampling frequency will be overwritten\n",
    "# to match the ones in interferometers.\n",
    "# All keyword arguments are passed to\n",
    "# `gwpy.timeseries.TimeSeries.fetch_open_data()'\n",
    "kwargs = {}\n",
    "# Data are stored by LOSC at 4096 Hz, however\n",
    "# there may be event-related data releases with a 16384 Hz rate.\n",
    "kwargs['sample_rate'] = 4096\n",
    "# For O2 events a \"tag\" is required to download the data.\n",
    "# CLN = clean data; C02 = raw data\n",
    "kwargs['tag'] = 'C02'\n",
    "sampling_frequency = kwargs['sample_rate']\n",
    "start_time = 0  # set the starting time of the time array\n",
    "waveform_arguments = {\n",
    "    'waveform_approximant': 'IMRPhenomPv2_NRTidal', 'reference_frequency': 20}\n",
    "\n",
    "source_model = bilby.gw.source.lal_binary_neutron_star\n",
    "convert_bns = bilby.gw.conversion.convert_to_lal_binary_neutron_star_parameters\n",
    "waveform_generator = bilby.gw.WaveformGenerator(\n",
    "    duration=duration,\n",
    "    sampling_frequency=sampling_frequency,\n",
    "    start_time=start_time,\n",
    "    frequency_domain_source_model=source_model,\n",
    "    parameter_conversion=convert_bns,\n",
    "    waveform_arguments=waveform_arguments,)"
   ]
  },
  {
   "cell_type": "markdown",
   "id": "93dd0c24",
   "metadata": {},
   "source": [
    "### Create a likelihood"
   ]
  },
  {
   "cell_type": "code",
   "execution_count": 21,
   "id": "13c0564f",
   "metadata": {},
   "outputs": [
    {
     "name": "stderr",
     "output_type": "stream",
     "text": [
      "13:34 bilby INFO    : Loaded distance marginalisation lookup table does not match for distance_array.\n",
      "13:34 bilby INFO    : Building lookup table for distance marginalisation.\n"
     ]
    },
    {
     "data": {
      "application/vnd.jupyter.widget-view+json": {
       "model_id": "01541e97abef43c6a976c96a80f3fe01",
       "version_major": 2,
       "version_minor": 0
      },
      "text/plain": [
       "  0%|          | 0/400 [00:00<?, ?it/s]"
      ]
     },
     "metadata": {},
     "output_type": "display_data"
    }
   ],
   "source": [
    "# CHOOSE LIKELIHOOD FUNCTION\n",
    "# Time marginalisation uses FFT.\n",
    "# Distance marginalisation uses a look up table calculated at run time.\n",
    "# Phase marginalisation is done analytically using a Bessel function.\n",
    "likelihood = bilby.gw.likelihood.GravitationalWaveTransient(\n",
    "    ifo_list, waveform_generator, priors=prior, time_marginalization=True,\n",
    "    phase_marginalization=True, distance_marginalization=True)"
   ]
  },
  {
   "cell_type": "code",
   "execution_count": 22,
   "id": "291d9e49",
   "metadata": {},
   "outputs": [
    {
     "name": "stderr",
     "output_type": "stream",
     "text": [
      "13:35 bilby INFO    : Running for label 'GW170817', output will be saved to 'outdir'\n",
      "13:35 bilby INFO    : Performing redundancy check using BBHPriorDict(self).test_redundancy\n",
      "13:35 bilby INFO    : Performing redundancy check using BBHPriorDict(self).test_redundancy\n",
      "13:35 bilby INFO    : Performing redundancy check using BBHPriorDict(self).test_redundancy\n",
      "13:35 bilby INFO    : Performing redundancy check using BBHPriorDict(self).test_redundancy\n",
      "13:35 bilby INFO    : Performing redundancy check using BBHPriorDict(self).test_redundancy\n",
      "13:35 bilby INFO    : Performing redundancy check using BBHPriorDict(self).test_redundancy\n",
      "13:35 bilby INFO    : Performing redundancy check using BBHPriorDict(self).test_redundancy\n",
      "13:35 bilby INFO    : Performing redundancy check using BBHPriorDict(self).test_redundancy\n",
      "13:35 bilby INFO    : Performing redundancy check using BBHPriorDict(self).test_redundancy\n",
      "13:35 bilby INFO    : Performing redundancy check using BBHPriorDict(self).test_redundancy\n",
      "13:35 bilby INFO    : Performing redundancy check using BBHPriorDict(self).test_redundancy\n",
      "13:35 bilby INFO    : Performing redundancy check using BBHPriorDict(self).test_redundancy\n",
      "13:35 bilby INFO    : Performing redundancy check using BBHPriorDict(self).test_redundancy\n",
      "13:35 bilby INFO    : Performing redundancy check using BBHPriorDict(self).test_redundancy\n",
      "13:35 bilby INFO    : Performing redundancy check using BBHPriorDict(self).test_redundancy\n",
      "13:35 bilby INFO    : Performing redundancy check using BBHPriorDict(self).test_redundancy\n",
      "13:35 bilby INFO    : Performing redundancy check using BBHPriorDict(self).test_redundancy\n",
      "13:35 bilby INFO    : Performing redundancy check using BBHPriorDict(self).test_redundancy\n",
      "13:35 bilby INFO    : Performing redundancy check using BBHPriorDict(self).test_redundancy\n",
      "13:35 bilby INFO    : Performing redundancy check using BBHPriorDict(self).test_redundancy\n",
      "13:35 bilby INFO    : Using lal version 7.2.4\n",
      "13:35 bilby INFO    : Using lal git version Branch: None;Tag: lalsuite-v7.11;Id: 7a2f2aa176ad39eeaede38f6df4a41d6bf226e8f;;Builder: Unknown User <>;Repository status: CLEAN: All modifications committed\n",
      "13:35 bilby INFO    : Using lalsimulation version 4.0.2\n",
      "13:35 bilby INFO    : Using lalsimulation git version Branch: None;Tag: lalsuite-v7.11;Id: 7a2f2aa176ad39eeaede38f6df4a41d6bf226e8f;;Builder: Unknown User <>;Repository status: CLEAN: All modifications committed\n",
      "13:35 bilby INFO    : Analysis priors:\n",
      "13:35 bilby INFO    : chirp_mass=bilby.gw.prior.UniformInComponentsChirpMass(minimum=1.197, maximum=1.198, name='chirp_mass', latex_label='$\\\\mathcal{M}$', unit='$M_{\\\\odot}$', boundary=None)\n",
      "13:35 bilby INFO    : mass_ratio=bilby.gw.prior.UniformInComponentsMassRatio(minimum=0.125, maximum=1.0, name='mass_ratio', latex_label='$q$', unit=None, boundary=None, equal_mass=False)\n",
      "13:35 bilby INFO    : a_1=Uniform(minimum=0, maximum=0.05, name='a_1', latex_label='$a_1$', unit=None, boundary=None)\n",
      "13:35 bilby INFO    : a_2=Uniform(minimum=0, maximum=0.05, name='a_2', latex_label='$a_2$', unit=None, boundary=None)\n",
      "13:35 bilby INFO    : tilt_1=Sine(minimum=0, maximum=3.141592653589793, name='tilt_1', latex_label='$\\\\theta_1$', unit=None, boundary=None)\n",
      "13:35 bilby INFO    : tilt_2=Sine(minimum=0, maximum=3.141592653589793, name='tilt_2', latex_label='$\\\\theta_2$', unit=None, boundary=None)\n",
      "13:35 bilby INFO    : phi_12=Uniform(minimum=0, maximum=6.283185307179586, name='phi_12', latex_label='$\\\\Delta\\\\phi$', unit=None, boundary='periodic')\n",
      "13:35 bilby INFO    : phi_jl=Uniform(minimum=0, maximum=6.283185307179586, name='phi_jl', latex_label='$\\\\phi_{JL}$', unit=None, boundary='periodic')\n",
      "13:35 bilby INFO    : dec=Cosine(minimum=-1.5707963267948966, maximum=1.5707963267948966, name='dec', latex_label='$\\\\mathrm{DEC}$', unit=None, boundary=None)\n",
      "13:35 bilby INFO    : ra=Uniform(minimum=0, maximum=6.283185307179586, name='ra', latex_label='$\\\\mathrm{RA}$', unit=None, boundary='periodic')\n",
      "13:35 bilby INFO    : theta_jn=Sine(minimum=0, maximum=3.141592653589793, name='theta_jn', latex_label='$\\\\theta_{JN}$', unit=None, boundary=None)\n",
      "13:35 bilby INFO    : psi=Uniform(minimum=0, maximum=3.141592653589793, name='psi', latex_label='$\\\\psi$', unit=None, boundary='periodic')\n",
      "13:35 bilby INFO    : lambda_tilde=Uniform(minimum=0, maximum=1000, name='lambda_tilde', latex_label='$\\\\tilde{\\\\Lambda}$', unit=None, boundary=None)\n",
      "13:35 bilby INFO    : delta_lambda_tilde=Uniform(minimum=-5000, maximum=5000, name='delta_lambda_tilde', latex_label='$\\\\delta\\\\tilde{\\\\Lambda}$', unit=None, boundary=None)\n",
      "13:35 bilby INFO    : time_jitter=Uniform(minimum=-0.000244140625, maximum=0.000244140625, name='time_jitter', latex_label='$t_j$', unit=None, boundary='periodic')\n",
      "13:35 bilby INFO    : lambda_1=Constraint(minimum=0, maximum=5000, name='lambda_1', latex_label='$\\\\Lambda_1$', unit=None)\n",
      "13:35 bilby INFO    : lambda_2=Constraint(minimum=0, maximum=5000, name='lambda_2', latex_label='$\\\\Lambda_2$', unit=None)\n",
      "13:35 bilby INFO    : luminosity_distance=78.95042839487404\n",
      "13:35 bilby INFO    : phase=0.0\n",
      "13:35 bilby INFO    : geocent_time=1187008852.0\n",
      "13:35 bilby INFO    : Analysis likelihood class: <class 'bilby.gw.likelihood.base.GravitationalWaveTransient'>\n",
      "13:35 bilby INFO    : Analysis likelihood noise evidence: -552650.8878836961\n",
      "13:35 bilby INFO    : Single likelihood evaluation took 5.919e-02 s\n",
      "13:35 bilby INFO    : Using sampler Dynesty with kwargs {'nlive': 512, 'bound': 'live', 'sample': 'act-walk', 'periodic': None, 'reflective': None, 'update_interval': 600, 'first_update': None, 'npdim': None, 'rstate': None, 'queue_size': 1, 'pool': None, 'use_pool': None, 'live_points': None, 'logl_args': None, 'logl_kwargs': None, 'ptform_args': None, 'ptform_kwargs': None, 'gradient': None, 'grad_args': None, 'grad_kwargs': None, 'compute_jac': False, 'enlarge': None, 'bootstrap': None, 'walks': 100, 'facc': 0.2, 'slices': None, 'fmove': 0.9, 'max_move': 100, 'update_func': None, 'ncdim': None, 'blob': False, 'save_history': False, 'history_filename': None, 'maxiter': None, 'maxcall': None, 'dlogz': 0.1, 'logl_max': inf, 'n_effective': None, 'add_live': True, 'print_progress': True, 'print_func': <bound method Dynesty._print_func of <bilby.core.sampler.dynesty.Dynesty object at 0x12a1df400>>, 'save_bounds': False, 'checkpoint_file': None, 'checkpoint_every': 60, 'resume': False}\n",
      "13:35 bilby INFO    : Checkpoint every check_point_delta_t = 600s\n",
      "13:35 bilby INFO    : Using dynesty version 2.1.1\n",
      "13:35 bilby INFO    : Using the bilby-implemented rwalk sampling tracking the autocorrelation function and thinning by 2 with maximum length 10000\n",
      "13:35 bilby INFO    : Resume file outdir/GW170817_resume.pickle does not exist.\n",
      "13:35 bilby INFO    : Generating initial points from the prior\n"
     ]
    },
    {
     "data": {
      "application/vnd.jupyter.widget-view+json": {
       "model_id": "63965037229e42128c83e16911b69f6d",
       "version_major": 2,
       "version_minor": 0
      },
      "text/plain": [
       "1it [00:00, ?it/s]"
      ]
     },
     "metadata": {},
     "output_type": "display_data"
    },
    {
     "name": "stderr",
     "output_type": "stream",
     "text": [
      "13:42 bilby INFO    : Run interrupted by signal 2: checkpoint and exit on 130\n",
      "13:42 bilby INFO    : Written checkpoint file outdir/GW170817_resume.pickle\n"
     ]
    },
    {
     "name": "stdout",
     "output_type": "stream",
     "text": [
      "Exception while calling loglikelihood function:\n",
      "  params: [ 1.19726505e+00  5.54340068e-01  3.79467504e-02  9.24840037e-03\n",
      "  7.94315868e-01  9.73075884e-01  5.34517080e+00  4.72839514e+00\n",
      " -1.67571786e-01  3.71309033e+00  1.88714615e+00  1.77436164e+00\n",
      "  5.63637883e+02  3.22162332e+01 -1.52187314e-04]\n",
      "  args: []\n",
      "  kwargs: {}\n",
      "  exception:\n"
     ]
    },
    {
     "name": "stderr",
     "output_type": "stream",
     "text": [
      "Traceback (most recent call last):\n",
      "  File \"/Users/dhruv/miniconda3/envs/igwn-py39/lib/python3.9/site-packages/dynesty/dynesty.py\", line 910, in __call__\n",
      "    return self.func(np.asarray(x).copy(), *self.args, **self.kwargs)\n",
      "  File \"/Users/dhruv/miniconda3/envs/igwn-py39/lib/python3.9/site-packages/bilby/core/sampler/dynesty.py\", line 55, in _log_likelihood_wrapper\n",
      "    return _sampling_convenience_dump.likelihood.log_likelihood()\n",
      "  File \"/Users/dhruv/miniconda3/envs/igwn-py39/lib/python3.9/site-packages/bilby/gw/likelihood/base.py\", line 853, in log_likelihood\n",
      "    return self.log_likelihood_ratio() + self.noise_log_likelihood()\n",
      "  File \"/Users/dhruv/miniconda3/envs/igwn-py39/lib/python3.9/site-packages/bilby/gw/likelihood/base.py\", line 412, in log_likelihood_ratio\n",
      "    log_l = self.compute_log_likelihood_from_snrs(total_snrs)\n",
      "  File \"/Users/dhruv/miniconda3/envs/igwn-py39/lib/python3.9/site-packages/bilby/gw/likelihood/base.py\", line 432, in compute_log_likelihood_from_snrs\n",
      "    log_l = self.time_marginalized_likelihood(\n",
      "  File \"/Users/dhruv/miniconda3/envs/igwn-py39/lib/python3.9/site-packages/bilby/gw/likelihood/base.py\", line 761, in time_marginalized_likelihood\n",
      "    log_l_tc_array = self.distance_marginalized_likelihood(\n",
      "  File \"/Users/dhruv/miniconda3/envs/igwn-py39/lib/python3.9/site-packages/bilby/gw/likelihood/base.py\", line 748, in distance_marginalized_likelihood\n",
      "    return self._interp_dist_margd_loglikelihood(\n",
      "  File \"/Users/dhruv/miniconda3/envs/igwn-py39/lib/python3.9/site-packages/bilby/core/utils/calculus.py\", line 231, in __call__\n",
      "    output[~bad], ier = bispeu(*self.tck, x[~bad], y[~bad])\n",
      "  File \"/Users/dhruv/miniconda3/envs/igwn-py39/lib/python3.9/site-packages/bilby/core/sampler/dynesty.py\", line 731, in write_current_state_and_exit\n",
      "    super(Dynesty, self).write_current_state_and_exit(signum=signum, frame=frame)\n",
      "  File \"/Users/dhruv/miniconda3/envs/igwn-py39/lib/python3.9/site-packages/bilby/core/sampler/base_sampler.py\", line 727, in write_current_state_and_exit\n",
      "    sys.exit(self.exit_code)\n",
      "SystemExit: 130\n"
     ]
    },
    {
     "ename": "SystemExit",
     "evalue": "130",
     "output_type": "error",
     "traceback": [
      "An exception has occurred, use %tb to see the full traceback.\n",
      "\u001b[0;31mSystemExit\u001b[0m\u001b[0;31m:\u001b[0m 130\n"
     ]
    },
    {
     "name": "stderr",
     "output_type": "stream",
     "text": [
      "/Users/dhruv/miniconda3/envs/igwn-py39/lib/python3.9/site-packages/IPython/core/interactiveshell.py:3516: UserWarning: To exit: use 'exit', 'quit', or Ctrl-D.\n",
      "  warn(\"To exit: use 'exit', 'quit', or Ctrl-D.\", stacklevel=1)\n"
     ]
    }
   ],
   "source": [
    "# RUN SAMPLER\n",
    "# Implemented Samplers:\n",
    "# LIST OF AVAILABLE SAMPLERS: Run -> bilby.sampler.implemented_samplers\n",
    "# conversion function = bilby.gw.conversion.generate_all_bns_parameters\n",
    "npoints = 512\n",
    "sampler = 'dynesty'\n",
    "result = bilby.run_sampler(\n",
    "    likelihood,\n",
    "    prior,\n",
    "    outdir=outdir,\n",
    "    label=label,\n",
    "    sampler=sampler,\n",
    "    npoints=npoints,\n",
    "    use_ratio=False,\n",
    "    conversion_function=bilby.gw.conversion.generate_all_bns_parameters)\n",
    "\n",
    "result.plot_corner()"
   ]
  }
 ],
 "metadata": {
  "kernelspec": {
   "display_name": "Python (igwn-py39)",
   "language": "python",
   "name": "igwn-py39"
  },
  "language_info": {
   "codemirror_mode": {
    "name": "ipython",
    "version": 3
   },
   "file_extension": ".py",
   "mimetype": "text/x-python",
   "name": "python",
   "nbconvert_exporter": "python",
   "pygments_lexer": "ipython3",
   "version": "3.9.16"
  }
 },
 "nbformat": 4,
 "nbformat_minor": 5
}
