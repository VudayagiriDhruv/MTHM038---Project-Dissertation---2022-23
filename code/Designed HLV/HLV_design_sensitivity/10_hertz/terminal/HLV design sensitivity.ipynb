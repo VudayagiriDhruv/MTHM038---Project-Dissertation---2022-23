{
 "cells": [
  {
   "cell_type": "code",
   "execution_count": 1,
   "id": "04c6c75a",
   "metadata": {},
   "outputs": [
    {
     "data": {
      "text/plain": [
       "'\\nTutorial to demonstrate a new interferometer\\n\\nWe place a new instrument in Gingin, with an A+ sensitivity in a network of A+\\ninterferometers at Hanford and Livingston\\n'"
      ]
     },
     "execution_count": 1,
     "metadata": {},
     "output_type": "execute_result"
    }
   ],
   "source": [
    "#!/bin/python\n",
    "\"\"\"\n",
    "Tutorial to demonstrate a new interferometer\n",
    "\n",
    "We place a new instrument in Gingin, with an A+ sensitivity in a network of A+\n",
    "interferometers at Hanford and Livingston\n",
    "\"\"\""
   ]
  },
  {
   "cell_type": "code",
   "execution_count": 2,
   "id": "45415def",
   "metadata": {},
   "outputs": [],
   "source": [
    "import numpy as np\n",
    "\n",
    "import bilby\n",
    "#import gwinc\n",
    "\n",
    "# Set the duration and sampling frequency of the data segment that we're going\n",
    "# to inject the signal into\n",
    "duration = 4.\n",
    "sampling_frequency = 2048."
   ]
  },
  {
   "cell_type": "code",
   "execution_count": 3,
   "id": "1c6c8cf4",
   "metadata": {},
   "outputs": [],
   "source": [
    "# Specify the output directory and the name of the simulation.\n",
    "outdir = 'outdir'\n",
    "label = 'next_genBBH'\n",
    "bilby.core.utils.setup_logger(outdir=outdir, label=label)\n",
    "\n",
    "# Set up a random seed for result reproducibility.  This is optional!\n",
    "np.random.seed(88170232)\n",
    "\n",
    "AdV_psd=np.loadtxt(\"AdV_psd.txt\")\n",
    "AdV_psd=AdV_psd[AdV_psd[:,0]>=20]\n",
    "\n",
    "hl_psd=np.loadtxt(\"aLIGO_ZERO_DET_high_P_psd.txt\")\n",
    "hl_psd=hl_psd[hl_psd[:,0]>=20]\n",
    "\n",
    "\n",
    "frequencies = np.logspace(0, 3, 1000)"
   ]
  },
  {
   "cell_type": "code",
   "execution_count": 4,
   "id": "6a93cca2",
   "metadata": {},
   "outputs": [],
   "source": [
    "# Set up three other detectors at Hanford, Livingston and Virgo\n",
    "interferometers = bilby.gw.detector.InterferometerList(['H1', 'L1','V1'])"
   ]
  },
  {
   "cell_type": "code",
   "execution_count": 9,
   "id": "6a09025c",
   "metadata": {},
   "outputs": [],
   "source": [
    "interferometers[0].power_spectral_density =\\\n",
    "        bilby.gw.detector.PowerSpectralDensity(\n",
    "            frequency_array=hl_psd[:,0], psd_array=hl_psd[:,1])\n",
    "\n",
    "interferometers[1].power_spectral_density =\\\n",
    "        bilby.gw.detector.PowerSpectralDensity(\n",
    "            frequency_array=hl_psd[:,0], psd_array=hl_psd[:,1])\n",
    "    \n",
    "interferometers[2].power_spectral_density =\\\n",
    "        bilby.gw.detector.PowerSpectralDensity(\n",
    "            frequency_array=AdV_psd[:,0], psd_array=AdV_psd[:,1])"
   ]
  },
  {
   "cell_type": "code",
   "execution_count": 10,
   "id": "f8110a95",
   "metadata": {},
   "outputs": [],
   "source": [
    " # Inject a gravitational-wave signal into the network\n",
    "# as we're using a three-detector network of A+, we inject a GW150914-like\n",
    "# signal at 4 Gpc\n",
    "injection_parameters = dict(\n",
    "    mass_1=36., mass_2=29., a_1=0.4, a_2=0.3, tilt_1=0.5, tilt_2=1.0,\n",
    "    phi_12=1.7, phi_jl=0.3, luminosity_distance=2000., theta_jn=0.4, psi=2.659,\n",
    "    phase=1.3, geocent_time=1502019943, ra=1.375, dec=-1.2108)\n",
    "# date and time 2027-08-11T11:45:25"
   ]
  },
  {
   "cell_type": "code",
   "execution_count": 11,
   "id": "27e65f1c",
   "metadata": {},
   "outputs": [
    {
     "name": "stderr",
     "output_type": "stream",
     "text": [
      "09:51 bilby INFO    : Waveform generator initiated with\n",
      "  frequency_domain_source_model: bilby.gw.source.lal_binary_black_hole\n",
      "  time_domain_source_model: None\n",
      "  parameter_conversion: bilby.gw.conversion.convert_to_lal_binary_black_hole_parameters\n"
     ]
    }
   ],
   "source": [
    "# Fixed arguments passed into the source model\n",
    "waveform_arguments = dict(waveform_approximant='IMRPhenomPv2',\n",
    "                          reference_frequency=50.)\n",
    "\n",
    "# Create the waveform_generator using a LAL BinaryBlackHole source function\n",
    "waveform_generator = bilby.gw.WaveformGenerator(\n",
    "    duration=duration, sampling_frequency=sampling_frequency,\n",
    "    frequency_domain_source_model=bilby.gw.source.lal_binary_black_hole,\n",
    "    waveform_arguments=waveform_arguments)\n",
    "\n",
    "start_time = injection_parameters['geocent_time'] + 2 - duration"
   ]
  },
  {
   "cell_type": "code",
   "execution_count": 12,
   "id": "ef469ffc",
   "metadata": {},
   "outputs": [
    {
     "name": "stderr",
     "output_type": "stream",
     "text": [
      "09:51 bilby INFO    : Injected signal in H1:\n",
      "09:51 bilby INFO    :   optimal SNR = 12.35\n",
      "09:51 bilby INFO    :   matched filter SNR = 11.96+0.24j\n",
      "09:51 bilby INFO    :   mass_1 = 36.0\n",
      "09:51 bilby INFO    :   mass_2 = 29.0\n",
      "09:51 bilby INFO    :   a_1 = 0.4\n",
      "09:51 bilby INFO    :   a_2 = 0.3\n",
      "09:51 bilby INFO    :   tilt_1 = 0.5\n",
      "09:51 bilby INFO    :   tilt_2 = 1.0\n",
      "09:51 bilby INFO    :   phi_12 = 1.7\n",
      "09:51 bilby INFO    :   phi_jl = 0.3\n",
      "09:51 bilby INFO    :   luminosity_distance = 2000.0\n",
      "09:51 bilby INFO    :   theta_jn = 0.4\n",
      "09:51 bilby INFO    :   psi = 2.659\n",
      "09:51 bilby INFO    :   phase = 1.3\n",
      "09:51 bilby INFO    :   geocent_time = 1502019943\n",
      "09:51 bilby INFO    :   ra = 1.375\n",
      "09:51 bilby INFO    :   dec = -1.2108\n",
      "09:51 bilby INFO    : Injected signal in L1:\n",
      "09:51 bilby INFO    :   optimal SNR = 9.92\n",
      "09:51 bilby INFO    :   matched filter SNR = 11.67+0.52j\n",
      "09:51 bilby INFO    :   mass_1 = 36.0\n",
      "09:51 bilby INFO    :   mass_2 = 29.0\n",
      "09:51 bilby INFO    :   a_1 = 0.4\n",
      "09:51 bilby INFO    :   a_2 = 0.3\n",
      "09:51 bilby INFO    :   tilt_1 = 0.5\n",
      "09:51 bilby INFO    :   tilt_2 = 1.0\n",
      "09:51 bilby INFO    :   phi_12 = 1.7\n",
      "09:51 bilby INFO    :   phi_jl = 0.3\n",
      "09:51 bilby INFO    :   luminosity_distance = 2000.0\n",
      "09:51 bilby INFO    :   theta_jn = 0.4\n",
      "09:51 bilby INFO    :   psi = 2.659\n",
      "09:51 bilby INFO    :   phase = 1.3\n",
      "09:51 bilby INFO    :   geocent_time = 1502019943\n",
      "09:51 bilby INFO    :   ra = 1.375\n",
      "09:51 bilby INFO    :   dec = -1.2108\n",
      "09:51 bilby INFO    : Injected signal in V1:\n",
      "09:51 bilby INFO    :   optimal SNR = 9.55\n",
      "09:51 bilby INFO    :   matched filter SNR = 9.40-0.27j\n",
      "09:51 bilby INFO    :   mass_1 = 36.0\n",
      "09:51 bilby INFO    :   mass_2 = 29.0\n",
      "09:51 bilby INFO    :   a_1 = 0.4\n",
      "09:51 bilby INFO    :   a_2 = 0.3\n",
      "09:51 bilby INFO    :   tilt_1 = 0.5\n",
      "09:51 bilby INFO    :   tilt_2 = 1.0\n",
      "09:51 bilby INFO    :   phi_12 = 1.7\n",
      "09:51 bilby INFO    :   phi_jl = 0.3\n",
      "09:51 bilby INFO    :   luminosity_distance = 2000.0\n",
      "09:51 bilby INFO    :   theta_jn = 0.4\n",
      "09:51 bilby INFO    :   psi = 2.659\n",
      "09:51 bilby INFO    :   phase = 1.3\n",
      "09:51 bilby INFO    :   geocent_time = 1502019943\n",
      "09:51 bilby INFO    :   ra = 1.375\n",
      "09:51 bilby INFO    :   dec = -1.2108\n"
     ]
    }
   ],
   "source": [
    "# inject the signal into the interferometers\n",
    "\n",
    "for interferometer in interferometers:\n",
    "    interferometer.set_strain_data_from_power_spectral_density(\n",
    "        sampling_frequency=sampling_frequency, duration=duration, start_time=start_time)\n",
    "    interferometer.inject_signal(\n",
    "        parameters=injection_parameters, waveform_generator=waveform_generator)\n",
    "\n",
    "    # plot the data for sanity\n",
    "    signal = interferometer.get_detector_response(\n",
    "        waveform_generator.frequency_domain_strain(), injection_parameters)\n",
    "    interferometer.plot_data(signal=signal, outdir=outdir, label=label)"
   ]
  },
  {
   "cell_type": "code",
   "execution_count": 13,
   "id": "f3bad1a3",
   "metadata": {},
   "outputs": [
    {
     "name": "stderr",
     "output_type": "stream",
     "text": [
      "09:51 bilby INFO    : No prior given, using default BBH priors in /Users/dhruv/miniconda3/envs/igwn-py39/lib/python3.9/site-packages/bilby/gw/prior_files/precessing_spins_bbh.prior.\n"
     ]
    }
   ],
   "source": [
    "priors = bilby.gw.prior.BBHPriorDict()\n",
    "for key in ['a_1', 'a_2', 'tilt_1', 'tilt_2', 'phi_12', 'phi_jl', 'psi',\n",
    "            'geocent_time']:\n",
    "    priors[key] = injection_parameters[key]\n",
    "   \n",
    "priors['geocent_time'] = bilby.core.prior.Uniform(\n",
    "    minimum=injection_parameters['geocent_time'] - 0.1,\n",
    "    maximum=injection_parameters['geocent_time'] + 0.1,\n",
    "    name='geocent_time', latex_label='$t_c$', unit='$s$')"
   ]
  },
  {
   "cell_type": "code",
   "execution_count": 14,
   "id": "18df3a43",
   "metadata": {},
   "outputs": [
    {
     "name": "stderr",
     "output_type": "stream",
     "text": [
      "09:51 bilby INFO    : Distance marginalisation file .distance_marginalization_lookup.npz does not exist\n",
      "09:51 bilby INFO    : Building lookup table for distance marginalisation.\n"
     ]
    },
    {
     "data": {
      "application/vnd.jupyter.widget-view+json": {
       "model_id": "2f63a6793ef64d9686c10f8fedb46f9c",
       "version_major": 2,
       "version_minor": 0
      },
      "text/plain": [
       "  0%|          | 0/400 [00:00<?, ?it/s]"
      ]
     },
     "metadata": {},
     "output_type": "display_data"
    }
   ],
   "source": [
    "# Initialise the likelihood by passing in the interferometer data (IFOs)\n",
    "# and the waveoform generator\n",
    "likelihood = bilby.gw.GravitationalWaveTransient(\n",
    "    interferometers=interferometers, waveform_generator=waveform_generator,\n",
    "    time_marginalization=True, phase_marginalization=True,\n",
    "    distance_marginalization=True, priors=priors)"
   ]
  },
  {
   "cell_type": "code",
   "execution_count": 15,
   "id": "407343f4",
   "metadata": {},
   "outputs": [
    {
     "name": "stderr",
     "output_type": "stream",
     "text": [
      "09:52 bilby INFO    : Running for label 'next_genBBH', output will be saved to 'outdir'\n",
      "09:52 bilby INFO    : Using lal version 7.2.4\n",
      "09:52 bilby INFO    : Using lal git version Branch: None;Tag: lalsuite-v7.11;Id: 7a2f2aa176ad39eeaede38f6df4a41d6bf226e8f;;Builder: Unknown User <>;Repository status: CLEAN: All modifications committed\n",
      "09:52 bilby INFO    : Using lalsimulation version 4.0.2\n",
      "09:52 bilby INFO    : Using lalsimulation git version Branch: None;Tag: lalsuite-v7.11;Id: 7a2f2aa176ad39eeaede38f6df4a41d6bf226e8f;;Builder: Unknown User <>;Repository status: CLEAN: All modifications committed\n",
      "09:52 bilby INFO    : Analysis priors:\n",
      "09:52 bilby INFO    : mass_ratio=bilby.gw.prior.UniformInComponentsMassRatio(minimum=0.125, maximum=1, name='mass_ratio', latex_label='$q$', unit=None, boundary=None, equal_mass=False)\n",
      "09:52 bilby INFO    : chirp_mass=bilby.gw.prior.UniformInComponentsChirpMass(minimum=25, maximum=100, name='chirp_mass', latex_label='$\\\\mathcal{M}$', unit=None, boundary=None)\n",
      "09:52 bilby INFO    : dec=Cosine(minimum=-1.5707963267948966, maximum=1.5707963267948966, name='dec', latex_label='$\\\\mathrm{DEC}$', unit=None, boundary=None)\n",
      "09:52 bilby INFO    : ra=Uniform(minimum=0, maximum=6.283185307179586, name='ra', latex_label='$\\\\mathrm{RA}$', unit=None, boundary='periodic')\n",
      "09:52 bilby INFO    : theta_jn=Sine(minimum=0, maximum=3.141592653589793, name='theta_jn', latex_label='$\\\\theta_{JN}$', unit=None, boundary=None)\n",
      "09:52 bilby INFO    : time_jitter=Uniform(minimum=-0.00048828125, maximum=0.00048828125, name='time_jitter', latex_label='$t_j$', unit=None, boundary='periodic')\n",
      "09:52 bilby INFO    : mass_1=Constraint(minimum=5, maximum=100, name='mass_1', latex_label='$m_1$', unit=None)\n",
      "09:52 bilby INFO    : mass_2=Constraint(minimum=5, maximum=100, name='mass_2', latex_label='$m_2$', unit=None)\n",
      "09:52 bilby INFO    : luminosity_distance=3382.9535676089\n",
      "09:52 bilby INFO    : psi=2.659\n",
      "09:52 bilby INFO    : phase=0.0\n",
      "09:52 bilby INFO    : a_1=0.4\n",
      "09:52 bilby INFO    : a_2=0.3\n",
      "09:52 bilby INFO    : tilt_1=0.5\n",
      "09:52 bilby INFO    : tilt_2=1.0\n",
      "09:52 bilby INFO    : phi_12=1.7\n",
      "09:52 bilby INFO    : phi_jl=0.3\n",
      "09:52 bilby INFO    : geocent_time=1502019941.0\n",
      "09:52 bilby INFO    : Analysis likelihood class: <class 'bilby.gw.likelihood.base.GravitationalWaveTransient'>\n",
      "09:52 bilby INFO    : Analysis likelihood noise evidence: -12289.048961443188\n",
      "09:52 bilby INFO    : Single likelihood evaluation took 5.504e-03 s\n",
      "09:52 bilby WARNING : Supplied argument 'npoints' not an argument of 'Dynesty', removing.\n",
      "09:52 bilby WARNING : Supplied argument 'n_checkpoint' not an argument of 'Dynesty', removing.\n",
      "09:52 bilby INFO    : Using sampler Dynesty with kwargs {'nlive': 512, 'bound': 'live', 'sample': 'act-walk', 'periodic': None, 'reflective': None, 'update_interval': 600, 'first_update': None, 'npdim': None, 'rstate': None, 'queue_size': 1, 'pool': None, 'use_pool': None, 'live_points': None, 'logl_args': None, 'logl_kwargs': None, 'ptform_args': None, 'ptform_kwargs': None, 'gradient': None, 'grad_args': None, 'grad_kwargs': None, 'compute_jac': False, 'enlarge': None, 'bootstrap': None, 'walks': 100, 'facc': 0.2, 'slices': None, 'fmove': 0.9, 'max_move': 100, 'update_func': None, 'ncdim': None, 'blob': False, 'save_history': False, 'history_filename': None, 'maxiter': None, 'maxcall': None, 'dlogz': 0.2, 'logl_max': inf, 'n_effective': None, 'add_live': True, 'print_progress': True, 'print_func': <bound method Dynesty._print_func of <bilby.core.sampler.dynesty.Dynesty object at 0x138a45e50>>, 'save_bounds': False, 'checkpoint_file': None, 'checkpoint_every': 60, 'resume': False}\n",
      "09:52 bilby INFO    : Checkpoint every check_point_delta_t = 600s\n",
      "09:52 bilby INFO    : Using dynesty version 2.1.1\n",
      "09:52 bilby INFO    : Using the bilby-implemented rwalk sampling tracking the autocorrelation function and thinning by 2 with maximum length 2000\n",
      "09:52 bilby INFO    : Resume file outdir/next_genBBH_resume.pickle does not exist.\n",
      "09:52 bilby INFO    : Generating initial points from the prior\n"
     ]
    },
    {
     "data": {
      "application/vnd.jupyter.widget-view+json": {
       "model_id": "e9241beef0864e248788572ab37cb500",
       "version_major": 2,
       "version_minor": 0
      },
      "text/plain": [
       "1it [00:00, ?it/s]"
      ]
     },
     "metadata": {},
     "output_type": "display_data"
    },
    {
     "name": "stderr",
     "output_type": "stream",
     "text": [
      "09:52 bilby INFO    : Run interrupted by signal 2: checkpoint and exit on 130\n",
      "09:52 bilby INFO    : Written checkpoint file outdir/next_genBBH_resume.pickle\n"
     ]
    },
    {
     "name": "stdout",
     "output_type": "stream",
     "text": [
      "Exception while calling loglikelihood function:\n",
      "  params: [6.84258680e-01 6.28348272e+01 1.53950337e+00 2.69868197e+00\n",
      " 1.35318173e+00 2.48175140e-04]\n",
      "  args: []\n",
      "  kwargs: {}\n",
      "  exception:\n"
     ]
    },
    {
     "name": "stderr",
     "output_type": "stream",
     "text": [
      "Traceback (most recent call last):\n",
      "  File \"/Users/dhruv/miniconda3/envs/igwn-py39/lib/python3.9/site-packages/dynesty/dynesty.py\", line 910, in __call__\n",
      "    return self.func(np.asarray(x).copy(), *self.args, **self.kwargs)\n",
      "  File \"/Users/dhruv/miniconda3/envs/igwn-py39/lib/python3.9/site-packages/bilby/core/sampler/dynesty.py\", line 53, in _log_likelihood_wrapper\n",
      "    return _sampling_convenience_dump.likelihood.log_likelihood_ratio()\n",
      "  File \"/Users/dhruv/miniconda3/envs/igwn-py39/lib/python3.9/site-packages/bilby/gw/likelihood/base.py\", line 394, in log_likelihood_ratio\n",
      "    self.waveform_generator.frequency_domain_strain(self.parameters)\n",
      "  File \"/Users/dhruv/miniconda3/envs/igwn-py39/lib/python3.9/site-packages/bilby/gw/waveform_generator.py\", line 131, in frequency_domain_strain\n",
      "    return self._calculate_strain(model=self.frequency_domain_source_model,\n",
      "  File \"/Users/dhruv/miniconda3/envs/igwn-py39/lib/python3.9/site-packages/bilby/gw/waveform_generator.py\", line 176, in _calculate_strain\n",
      "    model_strain = self._strain_from_model(model_data_points, model)\n",
      "  File \"/Users/dhruv/miniconda3/envs/igwn-py39/lib/python3.9/site-packages/bilby/gw/waveform_generator.py\", line 189, in _strain_from_model\n",
      "    return model(model_data_points, **self.parameters)\n",
      "  File \"/Users/dhruv/miniconda3/envs/igwn-py39/lib/python3.9/site-packages/bilby/gw/source.py\", line 89, in lal_binary_black_hole\n",
      "    return _base_lal_cbc_fd_waveform(\n",
      "  File \"/Users/dhruv/miniconda3/envs/igwn-py39/lib/python3.9/site-packages/bilby/gw/source.py\", line 340, in _base_lal_cbc_fd_waveform\n",
      "    lalsim.SimInspiralWaveformParamsInsertPNAmplitudeOrder(\n",
      "  File \"/Users/dhruv/miniconda3/envs/igwn-py39/lib/python3.9/site-packages/bilby/core/sampler/dynesty.py\", line 731, in write_current_state_and_exit\n",
      "    super(Dynesty, self).write_current_state_and_exit(signum=signum, frame=frame)\n",
      "  File \"/Users/dhruv/miniconda3/envs/igwn-py39/lib/python3.9/site-packages/bilby/core/sampler/base_sampler.py\", line 727, in write_current_state_and_exit\n",
      "    sys.exit(self.exit_code)\n",
      "SystemExit: 130\n"
     ]
    },
    {
     "ename": "SystemExit",
     "evalue": "130",
     "output_type": "error",
     "traceback": [
      "An exception has occurred, use %tb to see the full traceback.\n",
      "\u001b[0;31mSystemExit\u001b[0m\u001b[0;31m:\u001b[0m 130\n"
     ]
    },
    {
     "name": "stderr",
     "output_type": "stream",
     "text": [
      "/Users/dhruv/miniconda3/envs/igwn-py39/lib/python3.9/site-packages/IPython/core/interactiveshell.py:3516: UserWarning: To exit: use 'exit', 'quit', or Ctrl-D.\n",
      "  warn(\"To exit: use 'exit', 'quit', or Ctrl-D.\", stacklevel=1)\n"
     ]
    }
   ],
   "source": [
    "result = bilby.run_sampler(\n",
    "    likelihood=likelihood, priors=priors, sampler='dynesty', npoints=2000,\n",
    "    injection_parameters=injection_parameters, outdir=outdir,\n",
    "    label=label, maxmcmc=1000, nlive=512, walks=100, n_checkpoint=5000, dlogz=0.2,\n",
    "    conversion_function=bilby.gw.conversion.generate_all_bbh_parameters)\n",
    "\n",
    "# make some plots of the outputs\n",
    "result.plot_corner()"
   ]
  },
  {
   "cell_type": "code",
   "execution_count": null,
   "id": "4bc48bd7",
   "metadata": {},
   "outputs": [],
   "source": []
  }
 ],
 "metadata": {
  "kernelspec": {
   "display_name": "Python (igwn-py39)",
   "language": "python",
   "name": "igwn-py39"
  },
  "language_info": {
   "codemirror_mode": {
    "name": "ipython",
    "version": 3
   },
   "file_extension": ".py",
   "mimetype": "text/x-python",
   "name": "python",
   "nbconvert_exporter": "python",
   "pygments_lexer": "ipython3",
   "version": "3.9.16"
  }
 },
 "nbformat": 4,
 "nbformat_minor": 5
}
